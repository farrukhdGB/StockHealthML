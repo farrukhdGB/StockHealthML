{
 "cells": [
  {
   "cell_type": "code",
   "execution_count": 1,
   "id": "3ac95d65-551a-4a57-bb83-293d26e0dace",
   "metadata": {
    "jupyter": {
     "source_hidden": true
    }
   },
   "outputs": [
    {
     "name": "stdout",
     "output_type": "stream",
     "text": [
      "Fetching data for all tickers...\n",
      "Fetched and filled data with nan\n"
     ]
    }
   ],
   "source": [
    "import financials as fin\n",
    "from imports import *\n",
    "\n",
    "# Suppress warnings for cleaner output\n",
    "import warnings\n",
    "warnings.filterwarnings('ignore')\n",
    "\n",
    "# Define the list of ticker symbols\n",
    "tickers = ['AAPL', 'MSFT', 'GOOGL', 'AMZN', 'META', 'BABA', 'PYPL', 'NVDA', 'SHOP',\n",
    "          'COIN', 'TSLA', 'MU', 'BA', 'SIEB', 'INTEL' , 'PLTR', 'AMD', 'BAC', \n",
    "           'M', 'NFLX', 'V', 'PG', 'DIS', 'T', 'PFE', 'WMT', 'PEP', 'CRM', 'TMO', \n",
    "           'LLY', 'ORCL', 'MCD', 'WFC', 'C', 'AMGN', 'TSMC', 'ASML']\n",
    "\n",
    "print(f\"Fetching data for all tickers...\")\n",
    "financial_data = {}\n",
    "for ticker in tickers:\n",
    "\n",
    "    data = fin.get_financials(ticker)\n",
    "    if data:\n",
    "        financial_data[ticker] = data\n",
    "    else:\n",
    "        print(f\"Failed to fetch data for {ticker}.\")\n",
    "\n",
    "financial_df = fin.extract_metrics(financial_data)\n",
    "\n",
    "if 'Ticker' not in financial_df.columns:\n",
    "    print(\"\\n'Ticker' column is missing. Adding it manually.\")\n",
    "    financial_df['Ticker'] = tickers[:len(financial_df)]\n",
    "    \n",
    "numeric_cols = financial_df.select_dtypes(include=[np.number]).columns\n",
    "financial_df[numeric_cols] = financial_df[numeric_cols].fillna(financial_df[numeric_cols].mean())\n",
    "print('Fetched and filled data with nan')"
   ]
  },
  {
   "cell_type": "code",
   "execution_count": 2,
   "id": "573115ac-2420-447a-9651-00be64084040",
   "metadata": {
    "jupyter": {
     "source_hidden": true
    }
   },
   "outputs": [
    {
     "name": "stdout",
     "output_type": "stream",
     "text": [
      "\n",
      "Scaling features...\n",
      "\n",
      "Defining the target variable (Financial Health)...\n",
      "\n",
      "Splitting data into training and testing sets...\n",
      "Training samples: 29, Testing samples: 8\n",
      "\n",
      "Training Random Forest Classifier...\n",
      "Random Forest model trained.\n"
     ]
    }
   ],
   "source": [
    "print(\"\\nScaling features...\")\n",
    "# Exclude 'Ticker' from features\n",
    "features = financial_df.drop(['Ticker'], axis=1)\n",
    "\n",
    "# Initialize the scaler\n",
    "scaler = StandardScaler()\n",
    "\n",
    "# Fit and transform the features\n",
    "scaled_features = scaler.fit_transform(features)\n",
    "\n",
    "# Create a scaled DataFrame\n",
    "scaled_df = pd.DataFrame(scaled_features, columns=features.columns)\n",
    "scaled_df['Ticker'] = financial_df['Ticker'].values\n",
    "\n",
    "# Define the Target Variable\n",
    "print(\"\\nDefining the target variable (Financial Health)...\")\n",
    "median_margin = financial_df['Net Margin'].median()\n",
    "scaled_df['Financial_Health'] = (financial_df['Net Margin'] > median_margin).astype(int)\n",
    "\n",
    "#print(\"\\nTarget Variable:\")\n",
    "#print(scaled_df[['Ticker', 'Net Margin', 'Financial_Health']])\n",
    "\n",
    "print(\"\\nSplitting data into training and testing sets...\")\n",
    "X = scaled_df.drop(['Ticker', 'Financial_Health'], axis=1)\n",
    "y = scaled_df['Financial_Health']\n",
    "X_train, X_test, y_train, y_test = train_test_split(X, y, test_size=0.2, random_state=42)\n",
    "\n",
    "print(f\"Training samples: {X_train.shape[0]}, Testing samples: {X_test.shape[0]}\")\n",
    "\n",
    "# Train the Random Forest Classifier\n",
    "\n",
    "print(\"\\nTraining Random Forest Classifier...\")\n",
    "rf = RandomForestClassifier(n_estimators=100, random_state=42)\n",
    "rf.fit(X_train, y_train)\n",
    "print(\"Random Forest model trained.\")"
   ]
  },
  {
   "cell_type": "code",
   "execution_count": 3,
   "id": "f6b30ba4-fb81-4f32-80cb-d9527c33b1bc",
   "metadata": {},
   "outputs": [
    {
     "name": "stdout",
     "output_type": "stream",
     "text": [
      "\n",
      "Predicting financial health for NOK...\n",
      "\n",
      "Random Forest Prediction for NOK: Unhealthy (Probability: 0.99)\n"
     ]
    }
   ],
   "source": [
    "# Step 9: Predicting Financial Health of a Specific Company (XYZ)\n",
    "\n",
    "xyz_ticker = 'NOK' \n",
    "\n",
    "print(f\"\\nPredicting financial health for {xyz_ticker}...\")\n",
    "\n",
    "# Predict financial health for the specified ticker\n",
    "fin.predict_financial_health(xyz_ticker, scaler, rf, financial_data, financial_df, features)"
   ]
  },
  {
   "cell_type": "code",
   "execution_count": null,
   "id": "85e5f60b-f194-4b3c-afae-55c73c72fcdc",
   "metadata": {},
   "outputs": [],
   "source": []
  }
 ],
 "metadata": {
  "kernelspec": {
   "display_name": "Python 3 (ipykernel)",
   "language": "python",
   "name": "python3"
  },
  "language_info": {
   "codemirror_mode": {
    "name": "ipython",
    "version": 3
   },
   "file_extension": ".py",
   "mimetype": "text/x-python",
   "name": "python",
   "nbconvert_exporter": "python",
   "pygments_lexer": "ipython3",
   "version": "3.11.9"
  }
 },
 "nbformat": 4,
 "nbformat_minor": 5
}
